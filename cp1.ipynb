{
  "nbformat": 4,
  "nbformat_minor": 0,
  "metadata": {
    "colab": {
      "provenance": [],
      "authorship_tag": "ABX9TyNSmO6KwgDHTIZa7GGEiR1l",
      "include_colab_link": true
    },
    "kernelspec": {
      "name": "python3",
      "display_name": "Python 3"
    },
    "language_info": {
      "name": "python"
    }
  },
  "cells": [
    {
      "cell_type": "markdown",
      "metadata": {
        "id": "view-in-github",
        "colab_type": "text"
      },
      "source": [
        "<a href=\"https://colab.research.google.com/github/Mahsetab/cvpr_23_24_spring/blob/main/cp1.ipynb\" target=\"_parent\"><img src=\"https://colab.research.google.com/assets/colab-badge.svg\" alt=\"Open In Colab\"/></a>"
      ]
    },
    {
      "cell_type": "code",
      "execution_count": 4,
      "metadata": {
        "colab": {
          "base_uri": "https://localhost:8080/"
        },
        "id": "3UUH5oSt6p1Q",
        "outputId": "6f9f6891-06e4-4a0c-f886-457fa78e1dba"
      },
      "outputs": [
        {
          "output_type": "stream",
          "name": "stdout",
          "text": [
            "[1, 4, 9, 16, 25, 36, 49, 64, 81, 100]\n",
            "Sum of squares: 385\n"
          ]
        }
      ],
      "source": [
        "numbers = [1, 2, 3, 4, 5, 6, 7, 8, 9, 10]\n",
        "\n",
        "\n",
        "total_sum = sum(numbers)\n",
        "\n",
        "squares = []\n",
        "\n",
        "for num in numbers:\n",
        "    squares.append(num ** 2)\n",
        "\n",
        "print(squares)\n",
        "\n",
        "sum_of_squares = sum(squares)\n",
        "print(\"Sum of squares:\", sum_of_squares)\n"
      ]
    },
    {
      "cell_type": "code",
      "source": [
        "\n",
        "Even_numbers = (2, 4, 6, 8, 10)\n",
        "\n",
        "product = 1\n",
        "for num in Even_numbers:\n",
        "    product *= num\n",
        "\n",
        "print(\"Product of all elements in the tuple:\", product)\n"
      ],
      "metadata": {
        "colab": {
          "base_uri": "https://localhost:8080/"
        },
        "id": "B2Hp9skJ-BeD",
        "outputId": "b67e4db3-5f71-41c9-cbeb-c11fb87bffa0"
      },
      "execution_count": 5,
      "outputs": [
        {
          "output_type": "stream",
          "name": "stdout",
          "text": [
            "Product of all elements in the tuple: 3840\n"
          ]
        }
      ]
    },
    {
      "cell_type": "code",
      "source": [
        "\n",
        "odd_set1 = {1, 3, 5, 7, 9}\n",
        "odd_set2 = {1, 3, 5, 7}\n",
        "\n",
        "\n",
        "union_set = odd_set1.union(odd_set2)\n",
        "print(\"Union of the two sets:\", union_set)\n",
        "\n",
        "\n",
        "intersection_set = odd_set1.intersection(odd_set2)\n",
        "print(\"Intersection of the two sets:\", intersection_set)\n"
      ],
      "metadata": {
        "colab": {
          "base_uri": "https://localhost:8080/"
        },
        "id": "lYAl97G--p2o",
        "outputId": "9480e7b9-3b4d-4535-d2d5-9af64e0b3422"
      },
      "execution_count": 6,
      "outputs": [
        {
          "output_type": "stream",
          "name": "stdout",
          "text": [
            "Union of the two sets: {1, 3, 5, 7, 9}\n",
            "Intersection of the two sets: {1, 3, 5, 7}\n"
          ]
        }
      ]
    },
    {
      "cell_type": "code",
      "source": [
        "\n",
        "ascii_dict = {chr(i): ord(chr(i)) for i in range(ord('a'), ord('e')+1)}\n",
        "\n",
        "print(\"Dictionary:\", ascii_dict)\n",
        "\n"
      ],
      "metadata": {
        "colab": {
          "base_uri": "https://localhost:8080/"
        },
        "id": "kJLCmC9d_CSb",
        "outputId": "fd68cec2-c604-418c-eed1-14465f179edc"
      },
      "execution_count": 7,
      "outputs": [
        {
          "output_type": "stream",
          "name": "stdout",
          "text": [
            "Dictionary: {'a': 97, 'b': 98, 'c': 99, 'd': 100, 'e': 101}\n"
          ]
        }
      ]
    },
    {
      "cell_type": "code",
      "source": [
        "\n",
        "def square(x):\n",
        "    return x ** 2\n",
        "\n",
        "\n",
        "numbers = list(range(1, 11))\n",
        "squared_numbers = list(map(square, numbers))\n",
        "\n",
        "\n",
        "print(\"Squared numbers:\", squared_numbers)\n"
      ],
      "metadata": {
        "colab": {
          "base_uri": "https://localhost:8080/"
        },
        "id": "Tj-XeqRm_aBU",
        "outputId": "f49c736b-c637-4841-c06d-8cbe8d08b11c"
      },
      "execution_count": 8,
      "outputs": [
        {
          "output_type": "stream",
          "name": "stdout",
          "text": [
            "Squared numbers: [1, 4, 9, 16, 25, 36, 49, 64, 81, 100]\n"
          ]
        }
      ]
    }
  ]
}